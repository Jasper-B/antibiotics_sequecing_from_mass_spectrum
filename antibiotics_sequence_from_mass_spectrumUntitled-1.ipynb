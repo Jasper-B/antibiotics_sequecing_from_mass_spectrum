{
 "cells": [
  {
   "attachments": {},
   "cell_type": "markdown",
   "metadata": {},
   "source": [
    "Not all antibiotics that are produced by organisms follow the central dogma of biology (From **DNA** to **RNA** to **proteins**). Some antibiotics (*tyrocidines* and *gramicidins*) are non-ribosomal peptides, and they are not synthesized by ribosomes but by a protein called **NRP synthetase**. This enzyme can make antibiotic peptides without relying on **RNA**. Although these antibiotic peptides can have pharmaceutical applications, they cannot be sequenced from the DNA, but instead we have to rely on mass spectrometry to identify them.\n",
    "\n",
    "With a mass spectrometer, the peptide can be broken into smaller pieces of which the mass can be generated. This leads to a mass spectrum and from this we would like to generate the sequence of the antibiotic peptide. This complex problem is slightly simplified in this notebook by assuming that amino acids have an integer mass and that the mass spectrum also only consists of integer masses."
   ]
  },
  {
   "attachments": {},
   "cell_type": "markdown",
   "metadata": {},
   "source": [
    "Because the amino acids *isoleucine* and *leucine* both have an integer mass of 113 Da, and *lysine* and *glutamine* both have an integer mass of 128 Da, the duplicates will be removed."
   ]
  },
  {
   "cell_type": "code",
   "execution_count": 9,
   "metadata": {},
   "outputs": [],
   "source": [
    "# load in the integer mass table of amino acids\n",
    "with open('integer_mass_table.txt') as f:\n",
    "    mass_table = {}\n",
    "    for line in f:\n",
    "        line = line.strip('\\n')\n",
    "        new_line = line.split(' ')\n",
    "        mass_table.update({new_line[0]: new_line[1]})\n",
    "\n",
    "# remove the 2 amino acids because they have similar masses\n",
    "del mass_table['I']\n",
    "del mass_table['K']"
   ]
  },
  {
   "attachments": {},
   "cell_type": "markdown",
   "metadata": {},
   "source": [
    "The approach of this algorithm is that we keep increasing peptides and scoring these peptides with the amount of similarity to the provided spectrum. This allows for the handling of spectra with missing and/or false values which are often found in noisy real-life data. We keep track of the maximum score of the peptides and remove peptides that have a lower score. We also have to keep into account that these peptides can be circular!\n",
    "\n",
    "To start this algorithm, we need a way to break a random peptide into a linear- or cyclic spectrum, and score this on the amount of mass matches with the provided spectrum."
   ]
  },
  {
   "cell_type": "code",
   "execution_count": 10,
   "metadata": {},
   "outputs": [],
   "source": [
    "# return the mass spectrum of all peptide fragments\n",
    "def linear_spectrum(peptide, mass_table):\n",
    "    prefix_mass = [0]\n",
    "    alphabet = list(mass_table.keys())\n",
    "    \n",
    "    # the cumulative masses of the peptides\n",
    "    for i in range(len(peptide)):\n",
    "        for symbol in alphabet:\n",
    "            if symbol == peptide[i]:\n",
    "                prefix_mass.append(prefix_mass[i] + int(mass_table[symbol]))\n",
    "    \n",
    "    # calculate the mass differences of all the peptide fragments\n",
    "    linear_spectrum = [0]\n",
    "    for i in range(len(peptide)):\n",
    "        for j in range(i+1, len(peptide)+1):\n",
    "            linear_spectrum.append(prefix_mass[j]-prefix_mass[i])\n",
    "    \n",
    "    # sort the spectrum before returning\n",
    "    return sorted(linear_spectrum)\n",
    "\n",
    "# return the mass spectrum of all peptide fragments for a cyclical peptide\n",
    "def cyclic_spectrum(peptide, mass_table):\n",
    "    prefix_mass = [0]\n",
    "    alphabet = list(mass_table.keys())\n",
    "    \n",
    "    # the cumulative masses of the peptides\n",
    "    for i in range(len(peptide)):\n",
    "        for symbol in alphabet:\n",
    "            if symbol == peptide[i]:\n",
    "                prefix_mass.append(prefix_mass[i] + int(mass_table[symbol]))\n",
    "    \n",
    "    # get the total peptide mass\n",
    "    peptide_mass = 0\n",
    "    for aa in peptide:\n",
    "        peptide_mass += int(mass_table[aa])\n",
    "    \n",
    "    # calculate the mass differences of all the peptide fragments\n",
    "    cyclic_spectrum = [0]\n",
    "    for i in range(len(peptide)):\n",
    "        for j in range(i+1, len(peptide)+1):\n",
    "            cyclic_spectrum.append(prefix_mass[j]-prefix_mass[i])\n",
    "            if i > 0 and j < len(peptide):\n",
    "                cyclic_spectrum.append(peptide_mass - (prefix_mass[j]-prefix_mass[i]))\n",
    "    \n",
    "    # sort the spectrum before returning\n",
    "    return sorted(cyclic_spectrum)\n",
    "\n",
    "# this function scores a peptide with a given spectrum\n",
    "def cyclopeptide_scoring(peptide, spectrum, cyclic, mass_table):\n",
    "    # generate the spectrum of the peptide\n",
    "    if cyclic == True:\n",
    "        spectrum_to_compare = cyclic_spectrum(peptide, mass_table)\n",
    "    elif cyclic == False:\n",
    "        spectrum_to_compare = linear_spectrum(peptide, mass_table)\n",
    "\n",
    "    # calculate the score (amount of matches with spectrum)\n",
    "    score = 0\n",
    "    spectrum_copy = spectrum.copy()\n",
    "    for weight in spectrum_to_compare:\n",
    "        if weight in spectrum_copy:\n",
    "            score += 1\n",
    "            spectrum_copy.remove(weight)\n",
    "\n",
    "    return score"
   ]
  },
  {
   "attachments": {},
   "cell_type": "markdown",
   "metadata": {},
   "source": [
    "With these functions, we can break a random peptide into a spectrum and score this peptide (the higher the score, the better this peptide matches the spectrum). Next we want to see if the spectrum of the random peptide is consistent with the target spectrum. We also need to calculate the mass of the random peptide with the \"peptide_mass\" function."
   ]
  },
  {
   "cell_type": "code",
   "execution_count": 11,
   "metadata": {},
   "outputs": [],
   "source": [
    "# check if the peptide spectrum is consistent with the target spectrum\n",
    "def consistent_spectrum(peptide, spectrum, mass_table):\n",
    "    # generate the linear spectrum\n",
    "    lin_spectrum = linear_spectrum(peptide, mass_table)\n",
    "\n",
    "    # check if the masses are consistent\n",
    "    for mass in lin_spectrum:\n",
    "        if lin_spectrum.count(mass) > spectrum.count(mass):\n",
    "            return False\n",
    "    return True\n",
    "\n",
    "# function to get the mass of a peptide\n",
    "def peptide_mass(peptide, mass_table):\n",
    "    mass = 0\n",
    "    \n",
    "    for ele in peptide:\n",
    "        mass += int(mass_table[ele])\n",
    "    \n",
    "    return mass"
   ]
  },
  {
   "attachments": {},
   "cell_type": "markdown",
   "metadata": {},
   "source": [
    "For each round of the algorithm, we increase the size of random peptides and only keep the n-highest scoring peptides for further rounds. In this way, the algorithm does not have to continue with peptides that are not very well consistent with the spectrum. In order to be fair, we will also keep peptides that tie with the n-highest scoring peptides. For this we have the \"trim\" function."
   ]
  },
  {
   "cell_type": "code",
   "execution_count": 12,
   "metadata": {},
   "outputs": [],
   "source": [
    "# function to trim the leader_board to keep only the tied n peptides\n",
    "def trim(leader_board, spectrum, n, mass_table):\n",
    "    if len(leader_board) < n:\n",
    "        final_leader_board = leader_board\n",
    "    else:\n",
    "        # make a leader_board dictionary\n",
    "        linear_scores = dict.fromkeys(leader_board)\n",
    "        # fill with linear scores\n",
    "        for key in linear_scores.keys():\n",
    "            score = cyclopeptide_scoring(key, spectrum, False, mass_table)\n",
    "            linear_scores.update({key: score})\n",
    "    \n",
    "        # find the minimum score to be in the final leader_board\n",
    "        scores = list(linear_scores.values())\n",
    "        scores.sort(reverse = True)\n",
    "        minimum_score = scores[n-1]\n",
    "    \n",
    "        # check for each peptide if they reach this minimum score\n",
    "        final_leader_board = []\n",
    "        for key, value in linear_scores.items():\n",
    "            if value >= minimum_score:\n",
    "                final_leader_board.append(key)\n",
    "    \n",
    "    return final_leader_board"
   ]
  },
  {
   "attachments": {},
   "cell_type": "markdown",
   "metadata": {},
   "source": [
    "Now we have all the components to generate a peptide from a measured spectrum. In each round, peptides are increased in size by adding all amino acids to the growing list of peptides. It is checked if the complete peptide mass is the highest mass in the spectrum, and if so, the peptides are scored and only the highest scoring peptide is kept."
   ]
  },
  {
   "cell_type": "code",
   "execution_count": 13,
   "metadata": {},
   "outputs": [],
   "source": [
    "# cyclopeptide sequencing using leader_board scoring\n",
    "def leaderboard_peptide_sequencing(spectrum, n, mass_table):\n",
    "    # the list of amino acids\n",
    "    amino_acids = list(mass_table.keys())\n",
    "    # the leader_board elements\n",
    "    leader_board = [\"\"]\n",
    "    leader_peptide = \"\"\n",
    "    leader_peptide_score = 0\n",
    "\n",
    "    while leader_board:\n",
    "        # expand the leader_board with new amino acids\n",
    "        leader_board = [ele + aa for aa in amino_acids for ele in leader_board]\n",
    "        peptides_to_remove = []\n",
    "        for peptide in leader_board:\n",
    "            mass = peptide_mass(peptide, mass_table)\n",
    "            # if the mass is equal to the maximum mass check the score\n",
    "            if mass == max(spectrum):\n",
    "                # score the peptides\n",
    "                score = cyclopeptide_scoring(peptide, spectrum, True, mass_table)\n",
    "                # if this is the highest score make this the new leader peptide\n",
    "                if score > leader_peptide_score:\n",
    "                    leader_peptide = peptide\n",
    "                    leader_peptide_score = score\n",
    "            # else remove them from the leader_board\n",
    "            elif mass > max(spectrum):\n",
    "                # remove the peptide from candidate peptides\n",
    "                peptides_to_remove.append(peptide)\n",
    "        # remove all wrong candidates from the list\n",
    "        for i in range(len(peptides_to_remove)):\n",
    "            leader_board.remove(peptides_to_remove[i])\n",
    "        # trim the leader_board before the next round unless it is already empty\n",
    "        if len(leader_board) > 0:\n",
    "            leader_board = trim(leader_board, spectrum, n, mass_table)\n",
    "        else:\n",
    "            break\n",
    "\n",
    "    return leader_peptide"
   ]
  },
  {
   "attachments": {},
   "cell_type": "markdown",
   "metadata": {},
   "source": [
    "In this example we will use the spectrum of ***tyrocidine B1*** which has approximately 10% missing/false masses. As can be seen in the picture below, where blue masses are masses that are missing from the spectrum and green masses are false masses.\n",
    "\n",
    "![example](tyrocidine_spectrum_10.png)\n",
    "\n",
    "We can now apply our algorithm on this mass spectrum."
   ]
  },
  {
   "cell_type": "code",
   "execution_count": 15,
   "metadata": {},
   "outputs": [
    {
     "name": "stdout",
     "output_type": "stream",
     "text": [
      "This is the leader peptide: WFNQYVQLFP\n"
     ]
    }
   ],
   "source": [
    "# read in the mass spectrum\n",
    "with open(\"Mass_spectrum.txt\", \"r\") as f:\n",
    "    spectrum = f.read()\n",
    "    spectrum = [int(i) for i in spectrum.split()]\n",
    "\n",
    "# use the leaderboard sequencing algorithm\n",
    "leader_peptide = leaderboard_peptide_sequencing(spectrum, 1000, mass_table)\n",
    "print(f\"This is the leader peptide: {leader_peptide}\")"
   ]
  },
  {
   "attachments": {},
   "cell_type": "markdown",
   "metadata": {},
   "source": [
    "Now we have to take into account that the amino acids I/L and K/Q cannot be determined because they have similar integer masses.\n",
    "\n",
    "The final predicted antibiotic peptide sequence of ***tyrocidine B1*** is then:\n",
    "W F N K/Q Y V K/Q I/L F P\n",
    "\n",
    "The amino acid sequence of this cyclic antibiotic is printed below.\n",
    "![tyrocidine](tyrocidine_b1.png)\n",
    "\n",
    "Or in one-letter codes:\n",
    "\n",
    "(cyclo)- W F N Q Y V K L F P -(cyclo)\n",
    "\n",
    "The peptide is thus correctly sequenced from the messy spectrum!"
   ]
  },
  {
   "attachments": {},
   "cell_type": "markdown",
   "metadata": {},
   "source": [
    "This notebook is a somewhat simplified version of messy real-life data. The current algorithm fails for example when the total peptide mass is not present in the spectrum. It also assumes that amino acids and the masses are integers, but this is something that can be quite easily implemented to account for (small) variations in masses in the spectrum. Furthermore, this spectrum is also not guaranteed to find the correct peptide sequence when too many masses are missing. \n",
    "\n",
    "Nevertheless, making the algorithm taught me a lot more about how to apply a scoring algorithm instead of brute-forcing a solution."
   ]
  }
 ],
 "metadata": {
  "kernelspec": {
   "display_name": "base",
   "language": "python",
   "name": "python3"
  },
  "language_info": {
   "codemirror_mode": {
    "name": "ipython",
    "version": 3
   },
   "file_extension": ".py",
   "mimetype": "text/x-python",
   "name": "python",
   "nbconvert_exporter": "python",
   "pygments_lexer": "ipython3",
   "version": "3.10.8"
  },
  "orig_nbformat": 4
 },
 "nbformat": 4,
 "nbformat_minor": 2
}
